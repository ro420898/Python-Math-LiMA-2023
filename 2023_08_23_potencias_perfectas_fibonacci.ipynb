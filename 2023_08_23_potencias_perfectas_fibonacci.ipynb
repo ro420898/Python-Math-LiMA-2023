{
  "nbformat": 4,
  "nbformat_minor": 0,
  "metadata": {
    "colab": {
      "provenance": [],
      "authorship_tag": "ABX9TyMVlurdbpZU1LonuY1tYjc6",
      "include_colab_link": true
    },
    "kernelspec": {
      "name": "python3",
      "display_name": "Python 3"
    },
    "language_info": {
      "name": "python"
    }
  },
  "cells": [
    {
      "cell_type": "markdown",
      "metadata": {
        "id": "view-in-github",
        "colab_type": "text"
      },
      "source": [
        "<a href=\"https://colab.research.google.com/github/ro420898/Python-Math-LiMA-2023/blob/main/2023_08_23_potencias_perfectas_fibonacci.ipynb\" target=\"_parent\"><img src=\"https://colab.research.google.com/assets/colab-badge.svg\" alt=\"Open In Colab\"/></a>"
      ]
    },
    {
      "cell_type": "code",
      "execution_count": 1,
      "metadata": {
        "colab": {
          "base_uri": "https://localhost:8080/"
        },
        "id": "CAjZJLmdJFp1",
        "outputId": "2910e67f-754e-4980-d0a8-c74d3924b94b"
      },
      "outputs": [
        {
          "output_type": "execute_result",
          "data": {
            "text/plain": [
              "[0, 1, 1, 144]"
            ]
          },
          "metadata": {},
          "execution_count": 1
        }
      ],
      "source": [
        "def es_potencia(n, pot):\n",
        "    return int(n**(1/pot)) ** pot == n\n",
        "\n",
        "def potencias_fibonacci(n, pot=2):\n",
        "    if pot is None:\n",
        "      pot = 2\n",
        "    fibs = []\n",
        "    a, b = 0, 1\n",
        "    while a < n:\n",
        "        if es_potencia(a, pot):\n",
        "            fibs.append(a)\n",
        "        a, b = b, a+b\n",
        "    return fibs\n",
        "\n",
        "potencias_fibonacci(10**20,2)"
      ]
    },
    {
      "cell_type": "markdown",
      "source": [
        "En el artículo \"Classical and modular approaches to exponential Diophantine equations I. Fibonacci and Lucas perfect powers\", los autores Yann Bugeaud, Maurice Mignotte y Samir Siksek utilizan un enfoque combinado de técnicas clásicas y modulares para estudiar las potencias perfectas en la sucesión de Fibonacci.\n",
        "\n",
        "En primer lugar, los autores dan nuevas mejoras a los límites para las formas lineales en tres logaritmos. Luego, aplican un enfoque modular basado en la teoría de curvas elípticas para demostrar que las únicas potencias perfectas en la sucesión de Fibonacci son 0,1,8 y 144.\n",
        "\n",
        "Los resultados de este artículo confirman conjeturas que se habían planteado previamente, y proporcionan nuevos conocimientos sobre la estructura de las potencias perfectas en esta importante sucesión matemática.\n",
        "\n",
        "En resumen, este artículo demuestra que las potencias perfectas en la sucesión de Fibonacci son muy raras. Las únicas potencias perfectas que aparecen en estas sucesiones son 0,1,8 y 144 en la sucesión de Fibonacci."
      ],
      "metadata": {
        "id": "erj6wu3aKt5t"
      }
    }
  ]
}