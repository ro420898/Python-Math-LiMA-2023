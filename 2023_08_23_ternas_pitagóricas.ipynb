{
  "nbformat": 4,
  "nbformat_minor": 0,
  "metadata": {
    "colab": {
      "provenance": [],
      "authorship_tag": "ABX9TyOBuppdax2VomOWjgEIazK2",
      "include_colab_link": true
    },
    "kernelspec": {
      "name": "python3",
      "display_name": "Python 3"
    },
    "language_info": {
      "name": "python"
    }
  },
  "cells": [
    {
      "cell_type": "markdown",
      "metadata": {
        "id": "view-in-github",
        "colab_type": "text"
      },
      "source": [
        "<a href=\"https://colab.research.google.com/github/ro420898/Python-Math-LiMA-2023/blob/main/2023_08_23_ternas_pitag%C3%B3ricas.ipynb\" target=\"_parent\"><img src=\"https://colab.research.google.com/assets/colab-badge.svg\" alt=\"Open In Colab\"/></a>"
      ]
    },
    {
      "cell_type": "markdown",
      "source": [
        "Una terna pitagórica es un conjunto de tres números enteros positivos (a,b,c) que cumplen la relación $a^2+b^2=c^2$.\n",
        "\n",
        "Hay infinitas ternas pitagóricas. Una forma de generarlas es a partir de la terna (3,4,5). Si multiplicamos todos los términos de esta terna por un número entero positivo, obtenemos una nueva terna pitagórica. Por ejemplo, multiplicando por 2 obtenemos la terna (6,8,10).\n",
        "\n",
        "Las ternas pitagóricas tienen aplicaciones en diversas áreas de las matemáticas, como la teoría de números, la criptografía y la geometría. También tienen aplicaciones en la música, la arquitectura y el diseño."
      ],
      "metadata": {
        "id": "XLu_iq4pO3Uj"
      }
    },
    {
      "cell_type": "markdown",
      "source": [
        "**Ejercicio: Clasificar todas las ternas pitagóricas $(x,y,z)$ tales que $x,y,z\\leq 1000$**"
      ],
      "metadata": {
        "id": "9K10LdTXP1GS"
      }
    },
    {
      "cell_type": "code",
      "execution_count": 11,
      "metadata": {
        "colab": {
          "base_uri": "https://localhost:8080/"
        },
        "id": "VT05GGr-NvsN",
        "outputId": "5249abf5-10a1-4c7a-90e7-35be252d49bc"
      },
      "outputs": [
        {
          "output_type": "stream",
          "name": "stdout",
          "text": [
            "[(3, 4, 5), (5, 12, 13), (6, 8, 10), (7, 24, 25), (8, 15, 17), (9, 12, 15), (9, 40, 41), (10, 24, 26), (11, 60, 61), (12, 16, 20), (12, 35, 37), (13, 84, 85), (14, 48, 50), (15, 20, 25), (15, 36, 39), (16, 30, 34), (16, 63, 65), (18, 24, 30), (18, 80, 82), (20, 21, 29), (20, 48, 52), (21, 28, 35), (21, 72, 75), (24, 32, 40), (24, 45, 51), (24, 70, 74), (25, 60, 65), (27, 36, 45), (28, 45, 53), (30, 40, 50), (30, 72, 78), (32, 60, 68), (33, 44, 55), (33, 56, 65), (35, 84, 91), (36, 48, 60), (36, 77, 85), (39, 52, 65), (39, 80, 89), (40, 42, 58), (40, 75, 85), (42, 56, 70), (45, 60, 75), (48, 55, 73), (48, 64, 80), (51, 68, 85), (54, 72, 90), (57, 76, 95), (60, 63, 87), (65, 72, 97)]\n"
          ]
        }
      ],
      "source": [
        "ternas_pitagoricas = []\n",
        "\n",
        "n=100\n",
        "\n",
        "for x in range (1,n):\n",
        "  for y in range (x,n):\n",
        "    for z in range(y,n):\n",
        "      if x*x+y*y == z*z:\n",
        "        ternas_pitagoricas.append((x,y,z))\n",
        "\n",
        "print(ternas_pitagoricas)"
      ]
    }
  ]
}